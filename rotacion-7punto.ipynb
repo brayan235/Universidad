{
 "cells": [
  {
   "cell_type": "code",
   "execution_count": 18,
   "metadata": {
    "collapsed": true
   },
   "outputs": [],
   "source": [
    "import numpy as np\n",
    "import math\n",
    "from numpy import *"
   ]
  },
  {
   "cell_type": "code",
   "execution_count": 26,
   "metadata": {
    "collapsed": true
   },
   "outputs": [],
   "source": [
    "#elementos orbitales\n",
    "rad=np.pi/180.0\n",
    "omega=0.0*rad\n",
    "inc=45.0*rad\n",
    "w=20.0*rad\n",
    "#elementos geometricos\n",
    "a=7016*10**3\n",
    "e=0.05\n",
    "g=6.67*10**(-11.0)\n",
    "mu=g*5.97*10**24\n",
    "p=a*(1-e**2)"
   ]
  },
  {
   "cell_type": "code",
   "execution_count": 27,
   "metadata": {
    "collapsed": true
   },
   "outputs": [],
   "source": [
    "#matris de rotacion\n",
    "def rotcion(omega,inc,w):\n",
    "    rot1=np.array([[np.cos(omega),-np.sin(omega),0.0],\n",
    "             [np.sin(omega),np.cos(omega),0.0],\n",
    "             [0.0,0.0,1.0]])\n",
    "    rot2=np.array([[1.0,0.0,0.0],\n",
    "               [0.0,np.cos(inc),np.sin(inc)],\n",
    "               [0.0,-np.sin(inc),np.cos(inc)]])\n",
    "    rot3=np.array([[np.cos(w),np.sin(w),0.0],\n",
    "             [-np.sin(w),np.cos(w),0.0],\n",
    "             [0.0,0.0,1.0]])\n",
    "    rot_final=(rot3.dot(rot2)).dot(rot1)\n",
    "    return rot_final"
   ]
  },
  {
   "cell_type": "code",
   "execution_count": 28,
   "metadata": {
    "collapsed": false
   },
   "outputs": [],
   "source": [
    "rot_final=rotacion(omega,inc,w)"
   ]
  },
  {
   "cell_type": "code",
   "execution_count": 29,
   "metadata": {
    "collapsed": false
   },
   "outputs": [
    {
     "name": "stdout",
     "output_type": "stream",
     "text": [
      "[ 64526657.84756178 -14770190.5798563   -8189977.66985696]\n"
     ]
    }
   ],
   "source": [
    "#posicion\n",
    "rm=66700.25365*10**3.0 #en metros\n",
    "f=10*rad\n",
    "r=np.array([rm*np.cos(f),rm*np.sin(f),0.0])\n",
    "r_rotado=rot_final.dot(r)\n",
    "print r_rotado"
   ]
  },
  {
   "cell_type": "code",
   "execution_count": 32,
   "metadata": {
    "collapsed": false
   },
   "outputs": [
    {
     "name": "stdout",
     "output_type": "stream",
     "text": [
      "[-2936.17695594 -4237.35668749  4986.04447417]\n"
     ]
    }
   ],
   "source": [
    "#velosidad\n",
    "mag=-(mu/p)**0.5\n",
    "vi=mag*np.sin(f)\n",
    "vj=-mag*(e-np.cos(f))\n",
    "vel=np.array([vi,vj,0.0])\n",
    "v_rotada=rot_final.dot(vel)\n",
    "print v_rotada"
   ]
  }
 ],
 "metadata": {
  "kernelspec": {
   "display_name": "Python 2",
   "language": "python",
   "name": "python2"
  },
  "language_info": {
   "codemirror_mode": {
    "name": "ipython",
    "version": 2
   },
   "file_extension": ".py",
   "mimetype": "text/x-python",
   "name": "python",
   "nbconvert_exporter": "python",
   "pygments_lexer": "ipython2",
   "version": "2.7.11"
  }
 },
 "nbformat": 4,
 "nbformat_minor": 0
}
