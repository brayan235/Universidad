{
 "cells": [
  {
   "cell_type": "code",
   "execution_count": 3,
   "metadata": {
    "collapsed": true
   },
   "outputs": [],
   "source": [
    "import numpy as np"
   ]
  },
  {
   "cell_type": "code",
   "execution_count": 66,
   "metadata": {
    "collapsed": true
   },
   "outputs": [],
   "source": [
    "#densidad\n",
    "def densidad(r):\n",
    "    m=800*1e+27\n",
    "    densidad = m / (4*np.pi*r**2)\n",
    "    return densidad"
   ]
  },
  {
   "cell_type": "code",
   "execution_count": 99,
   "metadata": {
    "collapsed": true
   },
   "outputs": [],
   "source": [
    "def magnetosfera(M,densidad):\n",
    "    mu=4*np.pi*1e-7 \n",
    "    f=1.6\n",
    "    mp=1.66e-27\n",
    "    vsw=400.0e+3\n",
    "    radio = ((M**2*mu*f**2)/(8.0*np.pi**2*mp*densidad*vsw**2.0))**(1/6.0)\n",
    "    return radio"
   ]
  },
  {
   "cell_type": "code",
   "execution_count": 102,
   "metadata": {
    "collapsed": false
   },
   "outputs": [
    {
     "name": "stdout",
     "output_type": "stream",
     "text": [
      "Densidades en 1/cm3:\n",
      "0.4\n",
      "0.3\n",
      "0.01\n",
      "0.01\n"
     ]
    }
   ],
   "source": [
    "#Momento dipolar magnetico en T*m3\n",
    "Msat=5.03e19\n",
    "Mura=4.33e18\n",
    "Mnep=2.2e17\n",
    "#densidades\n",
    "d_j=0.4e6\n",
    "d_sat=0.3e6\n",
    "d_ura=1e-2*1e6\n",
    "d_nep=1e-2*1e6\n",
    "\n",
    "#radio de la magneosfera\n",
    "print 'Densidades en 1/cm3:'\n",
    "print d_j*10**-6\n",
    "print d_sat*10**-6\n",
    "print d_ura*10**-6\n",
    "print d_nep*10**-6"
   ]
  },
  {
   "cell_type": "code",
   "execution_count": 103,
   "metadata": {
    "collapsed": false
   },
   "outputs": [
    {
     "name": "stdout",
     "output_type": "stream",
     "text": [
      "Los radios de las magnetosferas son:\n",
      "0.202961076909\n",
      "10438572.7812\n",
      "8124587.17947\n",
      "3009166.59002\n"
     ]
    }
   ],
   "source": [
    "#magnetosferas\n",
    "mj=magnetosfera(Mj,d_j)\n",
    "ms=magnetosfera(Msat,d_sat)\n",
    "mura=magnetosfera(Mura,d_ura)\n",
    "mnep=magnetosfera(Mnep,d_nep)\n",
    "\n",
    "print 'Los radios de las magnetosferas son:'\n",
    "print mj\n",
    "print ms\n",
    "print mura\n",
    "print mnep"
   ]
  }
 ],
 "metadata": {
  "kernelspec": {
   "display_name": "Python 2",
   "language": "python",
   "name": "python2"
  },
  "language_info": {
   "codemirror_mode": {
    "name": "ipython",
    "version": 2
   },
   "file_extension": ".py",
   "mimetype": "text/x-python",
   "name": "python",
   "nbconvert_exporter": "python",
   "pygments_lexer": "ipython2",
   "version": "2.7.11"
  }
 },
 "nbformat": 4,
 "nbformat_minor": 0
}
