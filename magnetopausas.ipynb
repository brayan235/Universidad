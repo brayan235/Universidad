{
 "cells": [
  {
   "cell_type": "code",
   "execution_count": 1,
   "metadata": {
    "collapsed": true
   },
   "outputs": [],
   "source": [
    "import numpy as np"
   ]
  },
  {
   "cell_type": "code",
   "execution_count": 22,
   "metadata": {
    "collapsed": false
   },
   "outputs": [
    {
     "name": "stdout",
     "output_type": "stream",
     "text": [
      "1.25663706144e-06\n"
     ]
    }
   ],
   "source": [
    "#densidad\n",
    "def densidad(r):\n",
    "    cte=10.\n",
    "    densidad = cte/r**2.0 \n",
    "    return densidad"
   ]
  },
  {
   "cell_type": "code",
   "execution_count": 31,
   "metadata": {
    "collapsed": true
   },
   "outputs": [],
   "source": [
    "def magnetosfera(M,densidad):\n",
    "    mu=4*np.pi*1e-7 \n",
    "    f=1.6\n",
    "    mp=1.66e-27\n",
    "    vsw=400.0e+3\n",
    "    radio = ((M**2*mu*f**2)/(8.0*np.pi**2*mp*densidad*vsw**2.0))**(1/6.0)\n",
    "    return radio"
   ]
  },
  {
   "cell_type": "code",
   "execution_count": 37,
   "metadata": {
    "collapsed": false
   },
   "outputs": [
    {
     "name": "stdout",
     "output_type": "stream",
     "text": [
      "Densidades en 1/cm3:\n",
      "0.37 0.369822485207\n",
      "0.12 0.108960473499\n",
      "0.027 0.0270703102582\n",
      "0.011 0.0110374057681\n"
     ]
    }
   ],
   "source": [
    "#Momento dipolar magnetico en T*m3\n",
    "Mj=1.56e20\n",
    "Msat=5.03e18\n",
    "Mura=4.33e17\n",
    "Mnep=2.2e17\n",
    "\n",
    "#distancias\n",
    "rj=5.20\n",
    "rsat=9.58\n",
    "ruran=19.22\n",
    "rnep=30.10\n",
    "\n",
    "#densidades\n",
    "dj=densidad(rj)\n",
    "ds=densidad(rsat)\n",
    "du=densidad(ruran)\n",
    "dn=densidad(rnep)\n",
    "\n",
    "d_j=0.37e6\n",
    "d_sat=0.12e6\n",
    "d_ura=0.027e6\n",
    "d_nep=0.011e6\n",
    "\n",
    "#radio de la magneosfera\n",
    "print 'Densidades en 1/cm3:'\n",
    "print d_j*10**-6   ,dj\n",
    "print d_sat*10**-6 ,ds\n",
    "print d_ura*10**-6 ,du \n",
    "print d_nep*10**-6 ,dn"
   ]
  },
  {
   "cell_type": "code",
   "execution_count": 40,
   "metadata": {
    "collapsed": false
   },
   "outputs": [
    {
     "name": "stdout",
     "output_type": "stream",
     "text": [
      "Los radios de las magnetosferas son:\n",
      "14699861.7339\n",
      "5644573.40302\n",
      "3195758.91513\n",
      "2961743.54401\n"
     ]
    }
   ],
   "source": [
    "#magnetosferas\n",
    "mj=magnetosfera(Mj,d_j)\n",
    "ms=magnetosfera(Msat,d_sat)\n",
    "mura=magnetosfera(Mura,d_ura)\n",
    "mnep=magnetosfera(Mnep,d_nep)\n",
    "\n",
    "print 'Los radios de las magnetosferas son:'\n",
    "print mj\n",
    "print ms\n",
    "print mura\n",
    "print mnep\n",
    "\n",
    "#print mj/1.49e11"
   ]
  },
  {
   "cell_type": "code",
   "execution_count": null,
   "metadata": {
    "collapsed": true
   },
   "outputs": [],
   "source": []
  }
 ],
 "metadata": {
  "kernelspec": {
   "display_name": "Python 2",
   "language": "python",
   "name": "python2"
  },
  "language_info": {
   "codemirror_mode": {
    "name": "ipython",
    "version": 2
   },
   "file_extension": ".py",
   "mimetype": "text/x-python",
   "name": "python",
   "nbconvert_exporter": "python",
   "pygments_lexer": "ipython2",
   "version": "2.7.11"
  }
 },
 "nbformat": 4,
 "nbformat_minor": 0
}
