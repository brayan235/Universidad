{
 "cells": [
  {
   "cell_type": "markdown",
   "metadata": {},
   "source": [
    "# El Problema Circular Restringido de los Tres Cuerpos (CRTBP)"
   ]
  },
  {
   "cell_type": "code",
   "execution_count": 1,
   "metadata": {
    "collapsed": true
   },
   "outputs": [],
   "source": [
    "from numpy import *\n",
    "from scipy.optimize import *\n",
    "import matplotlib.pyplot as plt\n",
    "from mpl_toolkits.mplot3d import Axes3D\n",
    "from scipy.integrate import odeint\n",
    "from numpy.linalg import norm\n",
    "%matplotlib inline\n",
    "DEG=pi/180"
   ]
  },
  {
   "cell_type": "markdown",
   "metadata": {},
   "source": [
    "# Ecuaciones de Movimiento"
   ]
  },
  {
   "cell_type": "code",
   "execution_count": 2,
   "metadata": {
    "collapsed": false
   },
   "outputs": [],
   "source": [
    "def eom(q,t,mu):\n",
    "    r1=array([-mu,0,0])\n",
    "    r2=array([1-mu,0,0])\n",
    "    omega=array([0,0,1])\n",
    "    \n",
    "    r=q[:3]\n",
    "    v=q[3:]\n",
    "    \n",
    "    R1=r-r1\n",
    "    R2=r-r2\n",
    "    \n",
    "    drdt=v\n",
    "    dvdt=-(1-mu)/norm(R1)**3*R1-mu/norm(R2)**3*R2-cross(omega,cross(omega,r))-2*cross(omega,v)\n",
    "    \n",
    "    dqdt=drdt.tolist()+dvdt.tolist()\n",
    "    \n",
    "    return dqdt\n",
    "\n",
    "def JacobiConstant(r,v,mu):\n",
    "    r1=array([-mu,0,0])\n",
    "    r2=array([1-mu,0,0])\n",
    "    omega=array([0,0,1])\n",
    "    \n",
    "    R1=r-r1\n",
    "    R2=r-r2\n",
    "    \n",
    "    C=norm(v)**2-2*(1-mu)/norm(R1)-2*mu/norm(R2)-(r[0]**2+r[1]**2)\n",
    "    return C"
   ]
  },
  {
   "cell_type": "markdown",
   "metadata": {
    "collapsed": true
   },
   "source": [
    "# Condiciones Iniciales"
   ]
  },
  {
   "cell_type": "code",
   "execution_count": 10,
   "metadata": {
    "collapsed": false
   },
   "outputs": [
    {
     "name": "stdout",
     "output_type": "stream",
     "text": [
      "Jacobi Constant: -149.862058165\n"
     ]
    }
   ],
   "source": [
    "mu=0.012\n",
    "r=array([0,0,0])\n",
    "v=array([0.4,3.83,0])\n",
    "\n",
    "#Jacobi Constant\n",
    "C=JacobiConstant(r,v,mu)\n",
    "print \"Jacobi Constant:\",C\n",
    "\n",
    "#Pseudo potential\n",
    "x=linspace(-3,3,100)\n",
    "y=linspace(-3,3,100)\n",
    "X,Y=meshgrid(x,y)\n",
    "V=(-2*(1-mu)/sqrt((X+mu)**2+Y**2)-2*mu/sqrt((X-(1-mu))**2+Y**2)-(X**2+Y**2)-C)/2"
   ]
  },
  {
   "cell_type": "markdown",
   "metadata": {
    "collapsed": true
   },
   "source": [
    "# Solución"
   ]
  },
  {
   "cell_type": "code",
   "execution_count": 11,
   "metadata": {
    "collapsed": false
   },
   "outputs": [
    {
     "name": "stderr",
     "output_type": "stream",
     "text": [
      "/home/main/anaconda2/lib/python2.7/site-packages/scipy/integrate/odepack.py:156: ODEintWarning: Excess work done on this call (perhaps wrong Dfun type). Run with full_output = 1 to get quantitative information.\n",
      "  warnings.warn(warning_msg, ODEintWarning)\n"
     ]
    }
   ],
   "source": [
    "Nt=1000\n",
    "ts=linspace(0,30.0,1000)\n",
    "q=r.tolist()+v.tolist()\n",
    "solution=odeint(eom,q,ts,args=(mu,))\n",
    "\n",
    "rs=solution[:,:3]\n",
    "vs=solution[:,3:]"
   ]
  },
  {
   "cell_type": "markdown",
   "metadata": {
    "collapsed": true
   },
   "source": [
    "# Trayectoria y curvas de cero velocidad"
   ]
  },
  {
   "cell_type": "code",
   "execution_count": 12,
   "metadata": {
    "collapsed": false
   },
   "outputs": [
    {
     "data": {
      "image/png": "[encoded data removed]",
      "text/plain": [
       "<matplotlib.figure.Figure at 0x7f5bd186a5d0>"
      ]
     },
     "metadata": {},
     "output_type": "display_data"
    }
   ],
   "source": [
    "fig=plt.figure(figsize=(6,6))\n",
    "ax=fig.gca()\n",
    "\n",
    "ax.plot(rs[:,0],rs[:,1])\n",
    "ax.plot([-mu],[0],'ko')\n",
    "ax.plot([1-mu],[0],'ko')\n",
    "ax.contour(X,Y,V,levels=[0,],colors=['r'])\n",
    "\n",
    "max=3\n",
    "ax.set_xlim((-max,max))\n",
    "ax.set_ylim((-max,max))\n",
    "ax.grid()"
   ]
  },
  {
   "cell_type": "markdown",
   "metadata": {},
   "source": [
    "# Puntos de Lagrange"
   ]
  },
  {
   "cell_type": "code",
   "execution_count": 13,
   "metadata": {
    "collapsed": false
   },
   "outputs": [],
   "source": [
    "# Función definitoria\n",
    "def lagrangePoints(x,mu):\n",
    "    x1=-mu\n",
    "    x2=1-mu\n",
    "    f=(1-mu)*(x-x1)/(abs(x-x1)**3.0)+mu*(x-x2)/(abs(x-x2)**3.0)-x\n",
    "    return f"
   ]
  },
  {
   "cell_type": "code",
   "execution_count": 18,
   "metadata": {
    "collapsed": false
   },
   "outputs": [
    {
     "name": "stdout",
     "output_type": "stream",
     "text": [
      "326608.790751\n",
      "448633.289888\n",
      "-381709.163643\n"
     ]
    }
   ],
   "source": [
    "# Puntos no colineales\n",
    "L4=[cos(60*DEG)-mu,sin(60*DEG),0]\n",
    "L5=[cos(60*DEG)-mu,-sin(60*DEG),0]\n",
    "\n",
    "# Puntos colineales\n",
    "L1x=bisect(lagrangePoints,0,1-mu-mu/10,args=(mu,))\n",
    "L2x=bisect(lagrangePoints,(1-mu)+mu/10.,2,args=(mu,))\n",
    "L3x=bisect(lagrangePoints,-3,-mu-mu/10.,args=(mu,))\n",
    "\n",
    "x1=-mu\n",
    "print (L1x-x1)*384400.0\n",
    "print (L2x-x1)*384400.0\n",
    "print (L3x-x1)*384400.0\n",
    "\n",
    "L1=array([L1x,0,0])\n",
    "L2=array([L2x,0,0])\n",
    "L3=array([L3x,0,0])"
   ]
  },
  {
   "cell_type": "markdown",
   "metadata": {},
   "source": [
    "# Gráfico"
   ]
  },
  {
   "cell_type": "code",
   "execution_count": 15,
   "metadata": {
    "collapsed": false
   },
   "outputs": [
    {
     "data": {
      "image/png": "[encoded data removed]",
      "text/plain": [
       "<matplotlib.figure.Figure at 0x7f5bccd5b4d0>"
      ]
     },
     "metadata": {},
     "output_type": "display_data"
    }
   ],
   "source": [
    "fig=plt.figure(figsize=(6,6))\n",
    "ax=fig.gca()\n",
    "\n",
    "ax.plot(rs[:,0],rs[:,1])\n",
    "ax.plot([-mu],[0],'ko')\n",
    "ax.plot([1-mu],[0],'ko')\n",
    "\n",
    "ax.plot(L1[0],L1[1],'rv')\n",
    "ax.plot(L2[0],L2[1],'rv')\n",
    "ax.plot(L3[0],L3[1],'rv')\n",
    "ax.plot(L4[0],L4[1],'rv')\n",
    "ax.plot(L5[0],L5[1],'rv')\n",
    "\n",
    "ax.contour(X,Y,V,levels=[0,],colors=['r'])\n",
    "\n",
    "max=3\n",
    "ax.set_xlim((-max,max))\n",
    "ax.set_ylim((-max,max))\n",
    "ax.grid()"
   ]
  }
 ],
 "metadata": {
  "kernelspec": {
   "display_name": "Python 2",
   "language": "python",
   "name": "python2"
  },
  "language_info": {
   "codemirror_mode": {
    "name": "ipython",
    "version": 2
   },
   "file_extension": ".py",
   "mimetype": "text/x-python",
   "name": "python",
   "nbconvert_exporter": "python",
   "pygments_lexer": "ipython2",
   "version": "2.7.11"
  }
 },
 "nbformat": 4,
 "nbformat_minor": 0
}
