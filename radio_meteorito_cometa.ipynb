{
 "cells": [
  {
   "cell_type": "code",
   "execution_count": 4,
   "metadata": {
    "collapsed": false
   },
   "outputs": [],
   "source": [
    "import numpy as np"
   ]
  },
  {
   "cell_type": "code",
   "execution_count": 36,
   "metadata": {
    "collapsed": false
   },
   "outputs": [],
   "source": [
    "#datos\n",
    "ro_p=5515.0               #densidad del planeta     kg/m3\n",
    "g_p=9.8                   #gravedad del planeta     m/s2\n",
    "#ro_m=7874.0              #densidad del meteorito ferroso kg/m3\n",
    "ro_m=3000.0              #densidad del meteorito rocoso kg/m3\n",
    "#ro_m=600.0                #para un cometa  kg/m3\n",
    "v_m=10000.0               #velosidad del meteorito  m/s\n",
    "D=300000.0                #diametro del impacto     m\n",
    "teta=90.0                 #angulo del impacto       grados"
   ]
  },
  {
   "cell_type": "code",
   "execution_count": 37,
   "metadata": {
    "collapsed": false
   },
   "outputs": [
    {
     "name": "stdout",
     "output_type": "stream",
     "text": [
      "El radio del cuerpo es r = 44.685686822\n"
     ]
    }
   ],
   "source": [
    "#radio del meteorito\n",
    "den=2.317604362 * ro_m**0.33 * ro_p**(-0.33) * g_p**(-0.22) * v_m**0.44 * (np.sin(teta))**(1.0/3.0)\n",
    "radio=(D/den)**(1.0/0.79)\n",
    "print 'El radio del cuerpo es r =',radio/1000.0"
   ]
  },
  {
   "cell_type": "code",
   "execution_count": null,
   "metadata": {
    "collapsed": true
   },
   "outputs": [],
   "source": []
  }
 ],
 "metadata": {
  "kernelspec": {
   "display_name": "Python 2",
   "language": "python",
   "name": "python2"
  },
  "language_info": {
   "codemirror_mode": {
    "name": "ipython",
    "version": 2
   },
   "file_extension": ".py",
   "mimetype": "text/x-python",
   "name": "python",
   "nbconvert_exporter": "python",
   "pygments_lexer": "ipython2",
   "version": "2.7.11"
  }
 },
 "nbformat": 4,
 "nbformat_minor": 0
}
