{
 "cells": [
  {
   "cell_type": "code",
   "execution_count": 2,
   "metadata": {
    "collapsed": true
   },
   "outputs": [],
   "source": [
    "import numpy as np\n",
    "import math\n",
    "from numpy import *"
   ]
  },
  {
   "cell_type": "code",
   "execution_count": 3,
   "metadata": {
    "collapsed": true
   },
   "outputs": [],
   "source": [
    "#elementos orbitales\n",
    "rad=np.pi/180.0\n",
    "omega=0.0*rad\n",
    "inc=45.0*rad\n",
    "w=20.0*rad\n",
    "#elementos geometricos\n",
    "a=7016*10**3\n",
    "e=0.05\n",
    "g=6.67*10**(-11.0)\n",
    "mu=g*5.97*10**24\n",
    "p=a*(1-e**2)"
   ]
  },
  {
   "cell_type": "code",
   "execution_count": 4,
   "metadata": {
    "collapsed": true
   },
   "outputs": [],
   "source": [
    "#matris de rotacion, angulos en radianes\n",
    "def rotacion(omega,inc,w):\n",
    "    rot1=np.array([[np.cos(omega),-np.sin(omega),0.0],\n",
    "             [np.sin(omega),np.cos(omega),0.0],\n",
    "             [0.0,0.0,1.0]])\n",
    "    rot2=np.array([[1.0,0.0,0.0],\n",
    "               [0.0,np.cos(inc),-np.sin(inc)],\n",
    "               [0.0,np.sin(inc),np.cos(inc)]])\n",
    "    rot3=np.array([[np.cos(w),-np.sin(w),0.0],\n",
    "             [np.sin(w),np.cos(w),0.0],\n",
    "             [0.0,0.0,1.0]])\n",
    "    rot_final=(rot1.dot(rot2)).dot(rot3)\n",
    "    return rot_final"
   ]
  },
  {
   "cell_type": "code",
   "execution_count": 8,
   "metadata": {
    "collapsed": false
   },
   "outputs": [
    {
     "name": "stdout",
     "output_type": "stream",
     "text": [
      "[[ 0.93969262 -0.34202014  0.        ]\n",
      " [ 0.24184476  0.66446302 -0.70710678]\n",
      " [ 0.24184476  0.66446302  0.70710678]]\n"
     ]
    }
   ],
   "source": [
    "rot_final=rotacion(omega,inc,w)\n",
    "print rot_final"
   ]
  },
  {
   "cell_type": "code",
   "execution_count": 9,
   "metadata": {
    "collapsed": false
   },
   "outputs": [
    {
     "name": "stdout",
     "output_type": "stream",
     "text": [
      "[ 57764114.09976573  23582100.83138888  23582100.83138888]\n"
     ]
    }
   ],
   "source": [
    "#posicion\n",
    "rm=66700.25365*10**3.0 #en metros\n",
    "f=10*rad\n",
    "r=np.array([rm*np.cos(f),rm*np.sin(f),0.0])\n",
    "r_rotado=rot_final.dot(r)\n",
    "print r_rotado"
   ]
  },
  {
   "cell_type": "code",
   "execution_count": 10,
   "metadata": {
    "collapsed": false
   },
   "outputs": [
    {
     "name": "stdout",
     "output_type": "stream",
     "text": [
      "[ 1180.84817456 -5002.1277423  -5002.1277423 ]\n"
     ]
    }
   ],
   "source": [
    "#velosidad\n",
    "mag=-(mu/p)**0.5\n",
    "vi=mag*np.sin(f)\n",
    "vj=-mag*(e-np.cos(f))\n",
    "vel=np.array([vi,vj,0.0])\n",
    "v_rotada=rot_final.dot(vel)\n",
    "print v_rotada"
   ]
  },
  {
   "cell_type": "code",
   "execution_count": null,
   "metadata": {
    "collapsed": true
   },
   "outputs": [],
   "source": []
  }
 ],
 "metadata": {
  "kernelspec": {
   "display_name": "Python 2",
   "language": "python",
   "name": "python2"
  },
  "language_info": {
   "codemirror_mode": {
    "name": "ipython",
    "version": 2
   },
   "file_extension": ".py",
   "mimetype": "text/x-python",
   "name": "python",
   "nbconvert_exporter": "python",
   "pygments_lexer": "ipython2",
   "version": "2.7.11"
  }
 },
 "nbformat": 4,
 "nbformat_minor": 0
}
