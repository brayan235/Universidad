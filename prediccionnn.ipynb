{
 "cells": [
  {
   "cell_type": "code",
   "execution_count": 12,
   "metadata": {
    "collapsed": false
   },
   "outputs": [
    {
     "name": "stdout",
     "output_type": "stream",
     "text": [
      "\n"
     ]
    }
   ],
   "source": [
    "import numpy as np\n",
    "import math\n",
    "from numpy import *"
   ]
  },
  {
   "cell_type": "code",
   "execution_count": 13,
   "metadata": {
    "collapsed": true
   },
   "outputs": [],
   "source": [
    "#algoritmo para predecir la posicion en el espacio"
   ]
  },
  {
   "cell_type": "code",
   "execution_count": 14,
   "metadata": {
    "collapsed": true
   },
   "outputs": [],
   "source": [
    "#algoritmo de Newtom Rhapson\n",
    "#f,df son la funcion y su derivada\n",
    "#Vin y N son el estimativo inicial y el numero de iteraciones \n",
    "def nr(f,df,Vin,N):\n",
    "    p=Vin\n",
    "    for i in xrange(0,N):\n",
    "        p=p-(f(p)/df(p))\n",
    "    return p"
   ]
  },
  {
   "cell_type": "code",
   "execution_count": 15,
   "metadata": {
    "collapsed": true
   },
   "outputs": [],
   "source": [
    "#Ecuacion de Kepler\n",
    "#los valores de M,E se dan en radianes\n",
    "def eckepler(E):\n",
    "    kepler=E-e*np.sin(E)-M\n",
    "    return kepler\n",
    "#derivada ecuacion de kepler\n",
    "def deckepler(E):\n",
    "    dkepler=1-e*np.cos(E)\n",
    "    return dkepler"
   ]
  },
  {
   "cell_type": "code",
   "execution_count": 16,
   "metadata": {
    "collapsed": true
   },
   "outputs": [],
   "source": [
    "#matris de rotacion, angulos en radianes\n",
    "def rotacion(omega,inc,w):\n",
    "    rot1=np.array([[np.cos(omega),-np.sin(omega),0.0],\n",
    "             [np.sin(omega),np.cos(omega),0.0],\n",
    "             [0.0,0.0,1.0]])\n",
    "    rot2=np.array([[1.0,0.0,0.0],\n",
    "               [0.0,np.cos(inc),-np.sin(inc)],\n",
    "               [0.0,np.sin(inc),np.cos(inc)]])\n",
    "    rot3=np.array([[np.cos(w),-np.sin(w),0.0],\n",
    "             [np.sin(w),np.cos(w),0.0],\n",
    "             [0.0,0.0,1.0]])\n",
    "    rot_final=(rot1.dot(rot2)).dot(rot3)\n",
    "    return rot_final"
   ]
  },
  {
   "cell_type": "code",
   "execution_count": 17,
   "metadata": {
    "collapsed": true
   },
   "outputs": [],
   "source": [
    "#anomalia verdadera, E en grados\n",
    "def anomalia_verdadera(E,e):\n",
    "    factor=((1.0+e)/(1.0-e))**0.5\n",
    "    f=2.0*np.arctan(factor*np.tan(E/2.0))\n",
    "    return f"
   ]
  },
  {
   "cell_type": "code",
   "execution_count": 18,
   "metadata": {
    "collapsed": true
   },
   "outputs": [],
   "source": [
    "#datos"
   ]
  },
  {
   "cell_type": "code",
   "execution_count": 19,
   "metadata": {
    "collapsed": false
   },
   "outputs": [],
   "source": [
    "grad=180.0/np.pi\n",
    "rad=np.pi/180.0"
   ]
  },
  {
   "cell_type": "code",
   "execution_count": 20,
   "metadata": {
    "collapsed": false
   },
   "outputs": [
    {
     "name": "stdout",
     "output_type": "stream",
     "text": [
      "5022616.48057 58.2912216509 1.0\n"
     ]
    }
   ],
   "source": [
    "#unidades canónicas\n",
    "um=1.988544*10**30.0\n",
    "ul=149597870700.0\n",
    "G=6.67392*10**(-11.0)\n",
    "ut=(ul**3.0/(um*G))**0.5\n",
    "mu=(G*um)*(ut**2.0/ul**3.0)\n",
    "dia=ut*(1.0/3600.0)*(1.0/23.9345)\n",
    "print ut,dia,mu"
   ]
  },
  {
   "cell_type": "code",
   "execution_count": 21,
   "metadata": {
    "collapsed": false
   },
   "outputs": [
    {
     "name": "stdout",
     "output_type": "stream",
     "text": [
      "M = 181.42009438\n"
     ]
    }
   ],
   "source": [
    "tp=2457427.543855121499    #fecha juliana, dias,2016-Feb-09.04385512\n",
    "t=2458459.2916667          #fecha juliana, dias UT-5 2018/02/06 14:00:00\n",
    "#t=2458459.0833333          #fecha juliana, dias UT    2018/02/06 14:00:00\n",
    "#t=2457430.0833333          #2016-feb-11 14:00:00\n",
    "periodo=2047.343285965675  #dias\n",
    "e=0.1872699504244361       #ecentricidad\n",
    "a=3.155451391965179        #semieje mayor\n",
    "#n=2*np.pi/periodo          #mean orbital motion numericamente rad/dia\n",
    "n=0.1758376342979521*rad   #valor de Horizons rad/dia\n",
    "M=n*(t-tp)                 #anomalia media  \n",
    "print 'M =',M*grad"
   ]
  },
  {
   "cell_type": "code",
   "execution_count": 22,
   "metadata": {
    "collapsed": false
   },
   "outputs": [
    {
     "name": "stdout",
     "output_type": "stream",
     "text": [
      "E = 181.196114371\n",
      "f = 180.989637412\n",
      "Aqui debe dar cero 0.0\n"
     ]
    }
   ],
   "source": [
    "#anomalia ecentrica y verdadera\n",
    "E=nr(eckepler,deckepler,M,10)\n",
    "#E=Esol(M,e)\n",
    "f1=1.0*anomalia_verdadera(E,e)\n",
    "if f1<0.0:\n",
    "    f=2*np.pi+f1\n",
    "cero=E-e*np.sin(E)-M #verificacion de E, debe dar cero esta linea\n",
    "print 'E =',E*grad\n",
    "print 'f =',f*grad\n",
    "print 'Aqui debe dar cero',cero"
   ]
  },
  {
   "cell_type": "code",
   "execution_count": 32,
   "metadata": {
    "collapsed": false
   },
   "outputs": [
    {
     "name": "stdout",
     "output_type": "stream",
     "text": [
      "r = [-3.74568505 -0.06470352  0.        ]\n",
      "v = [ 0.00989813 -0.4656804   0.        ]\n"
     ]
    }
   ],
   "source": [
    "#posicion y velosidad en el plano de referencia\n",
    "p=a*(1.0-e**2)                                         #semilatus rectum\n",
    "v1=-1.0*(mu/p)**0.5                                    #factor para v\n",
    "r_mag=p/(1.0+e*np.cos(f))                              #magnitud de r con f\n",
    "#r_mag=a*(1-e*np.cos(E))                                #magnitud de r con E\n",
    "r=np.array([r_mag*np.cos(f),r_mag*np.sin(f),0.0])      #r vector\n",
    "vel=np.array([v1*np.sin(f),-1.0*v1*(e+np.cos(f)),0.0]) #v vector\n",
    "print 'r =',r\n",
    "print 'v =',vel"
   ]
  },
  {
   "cell_type": "code",
   "execution_count": 33,
   "metadata": {
    "collapsed": true
   },
   "outputs": [],
   "source": [
    "#elementos orbitales\n",
    "#tomado de Horizons\n",
    "omega=110.9390420742303*rad\n",
    "w=358.7790635893293*rad\n",
    "inc=2.73824776304453*rad"
   ]
  },
  {
   "cell_type": "code",
   "execution_count": 34,
   "metadata": {
    "collapsed": false
   },
   "outputs": [],
   "source": [
    "#matris de rotacion\n",
    "rot_final=rotacion(omega,inc,w)"
   ]
  },
  {
   "cell_type": "code",
   "execution_count": 35,
   "metadata": {
    "collapsed": false
   },
   "outputs": [
    {
     "name": "stdout",
     "output_type": "stream",
     "text": [
      "r rotado = [  1.32469267e+00  -3.50421630e+00   7.22488201e-04]\n",
      "v rotada = [ 0.00745461  0.00285197 -0.00038174]\n"
     ]
    }
   ],
   "source": [
    "r_rot=rot_final.dot(r)\n",
    "v_rot=rot_final.dot(vel)\n",
    "print 'r rotado =',r_rot\n",
    "print 'v rotada =',(1.0/dia)*v_rot  #de ul por ut a ul por dia"
   ]
  },
  {
   "cell_type": "code",
   "execution_count": 36,
   "metadata": {
    "collapsed": false
   },
   "outputs": [
    {
     "data": {
      "text/plain": [
       "'\"\\ndatos de Horizons:\\n2458459.083333333 = A.D. 2018-Dec-06 14:00:00.0000 (TDB)\\n   1.308057620446669E+00 -3.510316245875934E+00  1.194654235809810E-03\\n   7.457989109089521E-03  2.817550176085307E-03 -3.817166437810427E-04\\n   2.163572403152746E-02  3.746109490080055E+00 -3.616250114796165E-05\\n   \\n2457430.083333333 = A.D. 2016-Feb-11 14:00:00.0000 (TDB)\\n  -8.894479089857996E-01  2.405670048896956E+00 -1.352903896373736E-03\\n  -1.096617715140197E-02 -4.044752792298253E-03  5.591054548037377E-04\\n   1.481323942244966E-02  2.564832898515621E+00  8.868520566378756E-06\\n'"
      ]
     },
     "execution_count": 36,
     "metadata": {},
     "output_type": "execute_result"
    }
   ],
   "source": [
    "\"\"\"\"\n",
    "datos de Horizons:\n",
    "2458459.083333333 = A.D. 2018-Dec-06 14:00:00.0000 (TDB)\n",
    "   1.308057620446669E+00 -3.510316245875934E+00  1.194654235809810E-03\n",
    "   7.457989109089521E-03  2.817550176085307E-03 -3.817166437810427E-04\n",
    "   2.163572403152746E-02  3.746109490080055E+00 -3.616250114796165E-05\n",
    "   \n",
    "2457430.083333333 = A.D. 2016-Feb-11 14:00:00.0000 (TDB)\n",
    "  -8.894479089857996E-01  2.405670048896956E+00 -1.352903896373736E-03\n",
    "  -1.096617715140197E-02 -4.044752792298253E-03  5.591054548037377E-04\n",
    "   1.481323942244966E-02  2.564832898515621E+00  8.868520566378756E-06\n",
    "\"\"\""
   ]
  },
  {
   "cell_type": "code",
   "execution_count": null,
   "metadata": {
    "collapsed": true
   },
   "outputs": [],
   "source": []
  }
 ],
 "metadata": {
  "kernelspec": {
   "display_name": "Python 2",
   "language": "python",
   "name": "python2"
  },
  "language_info": {
   "codemirror_mode": {
    "name": "ipython",
    "version": 2
   },
   "file_extension": ".py",
   "mimetype": "text/x-python",
   "name": "python",
   "nbconvert_exporter": "python",
   "pygments_lexer": "ipython2",
   "version": "2.7.11"
  }
 },
 "nbformat": 4,
 "nbformat_minor": 0
}
