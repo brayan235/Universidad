{
 "cells": [
  {
   "cell_type": "code",
   "execution_count": 159,
   "metadata": {
    "collapsed": true
   },
   "outputs": [],
   "source": [
    "import numpy as np\n",
    "import math\n",
    "from numpy import *"
   ]
  },
  {
   "cell_type": "code",
   "execution_count": 160,
   "metadata": {
    "collapsed": true
   },
   "outputs": [],
   "source": [
    "#algoritmo para predecir la posicion en el espacio"
   ]
  },
  {
   "cell_type": "code",
   "execution_count": 161,
   "metadata": {
    "collapsed": true
   },
   "outputs": [],
   "source": [
    "#algoritmo de Newtom Rhapson\n",
    "#f,df son la funcion y su derivada\n",
    "#Vin y N son el estimativo inicial y el numero de iteraciones \n",
    "def nr(f,df,Vin,N):\n",
    "    p=Vin\n",
    "    for i in xrange(0,N):\n",
    "        p=p-(f(p)/df(p))\n",
    "    return p"
   ]
  },
  {
   "cell_type": "code",
   "execution_count": 162,
   "metadata": {
    "collapsed": true
   },
   "outputs": [],
   "source": [
    "#Ecuacion de Kepler\n",
    "#los valores de M,E se dan en radianes\n",
    "def eckepler(E):\n",
    "    kepler=E-e*np.sin(E)-M\n",
    "    return kepler\n",
    "#derivada ecuacion de kepler\n",
    "def deckepler(E):\n",
    "    dkepler=1-e*np.cos(E)\n",
    "    return dkepler"
   ]
  },
  {
   "cell_type": "code",
   "execution_count": 163,
   "metadata": {
    "collapsed": true
   },
   "outputs": [],
   "source": [
    "#matris de rotacion, angulos en radianes\n",
    "def rotacion(omega,inc,w):\n",
    "    rot1=np.array([[np.cos(omega),-np.sin(omega),0.0],\n",
    "             [np.sin(omega),np.cos(omega),0.0],\n",
    "             [0.0,0.0,1.0]])\n",
    "    rot2=np.array([[1.0,0.0,0.0],\n",
    "               [0.0,np.cos(inc),np.sin(inc)],\n",
    "               [0.0,-np.sin(inc),np.cos(inc)]])\n",
    "    rot3=np.array([[np.cos(w),np.sin(w),0.0],\n",
    "             [-np.sin(w),np.cos(w),0.0],\n",
    "             [0.0,0.0,1.0]])\n",
    "    rot_final=(rot3.dot(rot2)).dot(rot1)\n",
    "    return rot_final"
   ]
  },
  {
   "cell_type": "code",
   "execution_count": 164,
   "metadata": {
    "collapsed": true
   },
   "outputs": [],
   "source": [
    "#anomalia verdadera, E en grados\n",
    "def anomalia_verdadera(E,e):\n",
    "    factor=((1.0+e)/(1.0-e))**0.5\n",
    "    f=2.0*np.arctan(factor*np.tan(E/2.0))\n",
    "    return f"
   ]
  },
  {
   "cell_type": "code",
   "execution_count": 165,
   "metadata": {
    "collapsed": true
   },
   "outputs": [],
   "source": [
    "#datos"
   ]
  },
  {
   "cell_type": "code",
   "execution_count": 166,
   "metadata": {
    "collapsed": true
   },
   "outputs": [],
   "source": [
    "grad=180.0/np.pi\n",
    "rad=np.pi/180.0"
   ]
  },
  {
   "cell_type": "code",
   "execution_count": 167,
   "metadata": {
    "collapsed": false
   },
   "outputs": [
    {
     "name": "stdout",
     "output_type": "stream",
     "text": [
      "M = 181.42009438\n"
     ]
    }
   ],
   "source": [
    "masa=1.988544*10**30.0\n",
    "mu=masa*6.67384*10**(-11.0)#parametro gravitacional\n",
    "tp=2457427.543855121499    #fecha juliana, dias\n",
    "t=2458459.2916667          #fecha juliana, dias\n",
    "periodo=2047.343285965675  #dias\n",
    "e=0.1872699504244361       #ecentricidad\n",
    "a=3.155451391965179        #semieje mayor\n",
    "n=2*np.pi/periodo          #mean orbital motion\n",
    "M=n*(t-tp)                 #anomalia media\n",
    "print 'M =',M*grad"
   ]
  },
  {
   "cell_type": "code",
   "execution_count": 168,
   "metadata": {
    "collapsed": false
   },
   "outputs": [
    {
     "name": "stdout",
     "output_type": "stream",
     "text": [
      "E = 181.196114371\n",
      "f = -179.010362588\n",
      "Aqui debe dar cero 0.0\n"
     ]
    }
   ],
   "source": [
    "#anomalia ecentrica y verdadera\n",
    "E=nr(eckepler,deckepler,M,10)\n",
    "f=1.0*anomalia_verdadera(E,e)\n",
    "cero=E-e*np.sin(E)-M #verificacion de E, debe dar cero esta linea\n",
    "print 'E =',E*grad\n",
    "print 'f =',f*grad\n",
    "print 'Aqui debe dar cero',cero"
   ]
  },
  {
   "cell_type": "code",
   "execution_count": 169,
   "metadata": {
    "collapsed": false
   },
   "outputs": [
    {
     "name": "stdout",
     "output_type": "stream",
     "text": [
      "r = [-3.74568505 -0.06470352  0.        ]\n",
      "v = [  1.14027271e+08  -5.36467548e+09   0.00000000e+00]\n"
     ]
    }
   ],
   "source": [
    "#posicion y velosidad en el plano de referencia\n",
    "p=a*(1.0-e**2)                                         #semilatus rectum\n",
    "v1=-1.0*(mu/p)**0.5                                    #factor para v\n",
    "r_mag=p/(1.0+e*np.cos(f))                              #magnitud de r\n",
    "r=np.array([r_mag*np.cos(f),r_mag*np.sin(f),0.0])      #r vector\n",
    "vel=np.array([v1*np.sin(f),-1.0*v1*(e+np.cos(f)),0.0]) #v vector\n",
    "print 'r =',r\n",
    "print 'v =',vel"
   ]
  },
  {
   "cell_type": "code",
   "execution_count": 170,
   "metadata": {
    "collapsed": true
   },
   "outputs": [],
   "source": [
    "#elementos orbitales\n",
    "omega=110.9572256928823*rad\n",
    "w=358.408868205859*rad\n",
    "inc=2.737840822643827*rad"
   ]
  },
  {
   "cell_type": "code",
   "execution_count": 171,
   "metadata": {
    "collapsed": false
   },
   "outputs": [],
   "source": [
    "#matris de rotacion\n",
    "rot_final=rotacion(omega,inc,w)"
   ]
  },
  {
   "cell_type": "code",
   "execution_count": 172,
   "metadata": {
    "collapsed": false
   },
   "outputs": [
    {
     "name": "stdout",
     "output_type": "stream",
     "text": [
      "r rotado = [ 1.49597901 -3.43057457  0.16597577]\n",
      "v rotada = [  4.91091835e+09   2.16015454e+09  -9.67394699e+07]\n"
     ]
    }
   ],
   "source": [
    "r_rot=rot_final.dot(r)\n",
    "v_rot=rot_final.dot(vel)\n",
    "print 'r rotado =',r_rot\n",
    "print 'v rotada =',v_rot"
   ]
  },
  {
   "cell_type": "code",
   "execution_count": 173,
   "metadata": {
    "collapsed": true
   },
   "outputs": [],
   "source": [
    "#   2458459.083333333 = A.D. 2018-Dec-06 14:00:00.0000 (TDB)\n",
    "#  1.308057620446669E+00 -3.510316245875934E+00  1.194654235809810E-03 po\n",
    "# 7.457989109089521E-03  2.817550176085307E-03 -3.817166437810427E-04  vel\n",
    "#  2.163572403152746E-02  3.746109490080055E+00 -3.616250114796165E-05"
   ]
  }
 ],
 "metadata": {
  "kernelspec": {
   "display_name": "Python 2",
   "language": "python",
   "name": "python2"
  },
  "language_info": {
   "codemirror_mode": {
    "name": "ipython",
    "version": 2
   },
   "file_extension": ".py",
   "mimetype": "text/x-python",
   "name": "python",
   "nbconvert_exporter": "python",
   "pygments_lexer": "ipython2",
   "version": "2.7.11"
  }
 },
 "nbformat": 4,
 "nbformat_minor": 0
}
